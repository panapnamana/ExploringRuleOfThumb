{
 "cells": [
  {
   "cell_type": "code",
   "execution_count": 2,
   "metadata": {},
   "outputs": [
    {
     "data": {
      "application/vnd.jupyter.widget-view+json": {
       "model_id": "d4d6b0e87c624fc6b502adf6b4006395",
       "version_major": 2,
       "version_minor": 0
      },
      "text/plain": [
       "interactive(children=(IntSlider(value=51, description='n', min=2), FloatSlider(value=0.5, description='p', max…"
      ]
     },
     "metadata": {},
     "output_type": "display_data"
    },
    {
     "data": {
      "text/plain": [
       "<function __main__.f(n, p)>"
      ]
     },
     "execution_count": 2,
     "metadata": {},
     "output_type": "execute_result"
    }
   ],
   "source": [
    "from ipywidgets import interact\n",
    "from math import sqrt\n",
    "import matplotlib.pyplot as plt\n",
    "import numpy as np\n",
    "import scipy.stats as sts\n",
    "%matplotlib inline\n",
    "\n",
    "def f(n, p):\n",
    "    plt.figure(2)\n",
    "    xis = range(0,n)\n",
    "    plt.bar(xis, sts.binom.pmf(xis,n, p), width=0.18)\n",
    "    plt.plot(xis, sts.norm.pdf(xis, n*p, sqrt(n*p*(1-p))), color='green', linewidth=1,marker='_', markersize = 3, markerfacecolor = 'orange')\n",
    "    plt.show()\n",
    "    fr = n*p*(1-p)\n",
    "    return fr\n",
    "\n",
    "interactive_plot = interact(f, n=(2, 100), p=(0.1, 0.9, 0.1));\n",
    "interactive_plot\n"
   ]
  },
  {
   "cell_type": "code",
   "execution_count": 3,
   "metadata": {},
   "outputs": [
    {
     "data": {
      "application/vnd.jupyter.widget-view+json": {
       "model_id": "be0c3b9333b54f6881742d35db9d0408",
       "version_major": 2,
       "version_minor": 0
      },
      "text/plain": [
       "interactive(children=(IntSlider(value=51, description='n', min=2), FloatSlider(value=0.5, description='p', max…"
      ]
     },
     "metadata": {},
     "output_type": "display_data"
    },
    {
     "data": {
      "text/plain": [
       "<function __main__.f(n, p)>"
      ]
     },
     "execution_count": 3,
     "metadata": {},
     "output_type": "execute_result"
    }
   ],
   "source": [
    "\n",
    "def f(n, p):\n",
    "    plt.figure(2)\n",
    "    xis = range(0,n)\n",
    "    plt.bar(xis, sts.binom.pmf(xis,n, p)-sts.norm.pdf(xis, n*p, sqrt(n*p*(1-p))), width=0.18)\n",
    "    #plt.plot(xis, sts.norm.pdf(xis, n*p, sqrt(n*p*(1-p))), color='green', linewidth=1,marker='_', markersize = 3, markerfacecolor = 'orange')\n",
    "    plt.ylim(-0.005,0.005)\n",
    "    plt.grid()\n",
    "    plt.show()\n",
    "    fr = n*p*(1-p)\n",
    "    return fr\n",
    "\n",
    "interactive_plot = interact(f, n=(2, 100), p=(0.1, 0.9, 0.05));\n",
    "interactive_plot"
   ]
  },
  {
   "cell_type": "code",
   "execution_count": null,
   "metadata": {},
   "outputs": [],
   "source": []
  }
 ],
 "metadata": {
  "kernelspec": {
   "display_name": "Python 3",
   "language": "python",
   "name": "python3"
  },
  "language_info": {
   "codemirror_mode": {
    "name": "ipython",
    "version": 3
   },
   "file_extension": ".py",
   "mimetype": "text/x-python",
   "name": "python",
   "nbconvert_exporter": "python",
   "pygments_lexer": "ipython3",
   "version": "3.7.2"
  },
  "widgets": {
   "application/vnd.jupyter.widget-state+json": {
    "state": {
     "031ac33f7acf49948c4f6339c6a4edbe": {
      "model_module": "@jupyter-widgets/controls",
      "model_module_version": "1.4.0",
      "model_name": "SliderStyleModel",
      "state": {
       "description_width": ""
      }
     },
     "0334c487406e4a71b48c677623f15645": {
      "model_module": "@jupyter-widgets/output",
      "model_module_version": "1.0.0",
      "model_name": "OutputModel",
      "state": {
       "layout": "IPY_MODEL_09fdbd78276342c686896b36c34bb633",
       "outputs": [
        {
         "data": {
          "image/png": "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\n",
          "text/plain": "<Figure size 432x288 with 1 Axes>"
         },
         "metadata": {
          "needs_background": "light"
         },
         "output_type": "display_data"
        },
        {
         "data": {
          "text/plain": "12.75"
         },
         "metadata": {},
         "output_type": "display_data"
        }
       ]
      }
     },
     "05d4b64eb4fb451993ee514c51db90ed": {
      "model_module": "@jupyter-widgets/base",
      "model_module_version": "1.1.0",
      "model_name": "LayoutModel",
      "state": {}
     },
     "08277274b8e043b1808fa59474dd3ccf": {
      "model_module": "@jupyter-widgets/base",
      "model_module_version": "1.1.0",
      "model_name": "LayoutModel",
      "state": {}
     },
     "09fdbd78276342c686896b36c34bb633": {
      "model_module": "@jupyter-widgets/base",
      "model_module_version": "1.1.0",
      "model_name": "LayoutModel",
      "state": {}
     },
     "196c29d07e0c428ca0bb253c965572c9": {
      "model_module": "@jupyter-widgets/controls",
      "model_module_version": "1.4.0",
      "model_name": "FloatSliderModel",
      "state": {
       "description": "p",
       "layout": "IPY_MODEL_aa30d7d696414cde9fb132225d5cf314",
       "max": 0.9,
       "min": 0.1,
       "step": 0.05,
       "style": "IPY_MODEL_39292caaa3e644429adef13c19c2f48d",
       "value": 0.5
      }
     },
     "2babd92850fb4a00b2111165d07c0cbe": {
      "model_module": "@jupyter-widgets/base",
      "model_module_version": "1.1.0",
      "model_name": "LayoutModel",
      "state": {}
     },
     "2d106c17c47049799ce54a81e673c6ee": {
      "model_module": "@jupyter-widgets/controls",
      "model_module_version": "1.4.0",
      "model_name": "SliderStyleModel",
      "state": {
       "description_width": ""
      }
     },
     "382f93549617405f8d75e5acfa0d7a66": {
      "model_module": "@jupyter-widgets/base",
      "model_module_version": "1.1.0",
      "model_name": "LayoutModel",
      "state": {}
     },
     "39292caaa3e644429adef13c19c2f48d": {
      "model_module": "@jupyter-widgets/controls",
      "model_module_version": "1.4.0",
      "model_name": "SliderStyleModel",
      "state": {
       "description_width": ""
      }
     },
     "3a65cde3ed4d4285b3916e108918cb0d": {
      "model_module": "@jupyter-widgets/controls",
      "model_module_version": "1.4.0",
      "model_name": "FloatSliderModel",
      "state": {
       "description": "p",
       "layout": "IPY_MODEL_05d4b64eb4fb451993ee514c51db90ed",
       "max": 0.9,
       "min": 0.1,
       "step": 0.1,
       "style": "IPY_MODEL_2d106c17c47049799ce54a81e673c6ee",
       "value": 0.5
      }
     },
     "3c6af1fa84de45669ef853f781005111": {
      "model_module": "@jupyter-widgets/base",
      "model_module_version": "1.1.0",
      "model_name": "LayoutModel",
      "state": {}
     },
     "4437cb015bad434cb3dd97ee6ae0b8da": {
      "model_module": "@jupyter-widgets/controls",
      "model_module_version": "1.4.0",
      "model_name": "SliderStyleModel",
      "state": {
       "description_width": ""
      }
     },
     "53382bbda1d249138afe1e225540a15a": {
      "model_module": "@jupyter-widgets/output",
      "model_module_version": "1.0.0",
      "model_name": "OutputModel",
      "state": {
       "layout": "IPY_MODEL_3c6af1fa84de45669ef853f781005111",
       "outputs": [
        {
         "data": {
          "image/png": "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\n",
          "text/plain": "<Figure size 432x288 with 1 Axes>"
         },
         "metadata": {
          "needs_background": "light"
         },
         "output_type": "display_data"
        },
        {
         "data": {
          "text/plain": "12.75"
         },
         "metadata": {},
         "output_type": "display_data"
        }
       ]
      }
     },
     "623cda08dd3848c4a7092f26e48f0f5a": {
      "model_module": "@jupyter-widgets/base",
      "model_module_version": "1.1.0",
      "model_name": "LayoutModel",
      "state": {}
     },
     "6c98cd9736a1481ba2d70629e61a9125": {
      "model_module": "@jupyter-widgets/controls",
      "model_module_version": "1.4.0",
      "model_name": "IntSliderModel",
      "state": {
       "description": "n",
       "layout": "IPY_MODEL_a22213d609184d4cbc8168a77bdb7b85",
       "min": 2,
       "style": "IPY_MODEL_f367cb1034ad49809152a913ea85a2e3",
       "value": 51
      }
     },
     "78c6d9c086184e2fa20254cabbe3fbee": {
      "model_module": "@jupyter-widgets/controls",
      "model_module_version": "1.4.0",
      "model_name": "SliderStyleModel",
      "state": {
       "description_width": ""
      }
     },
     "a22213d609184d4cbc8168a77bdb7b85": {
      "model_module": "@jupyter-widgets/base",
      "model_module_version": "1.1.0",
      "model_name": "LayoutModel",
      "state": {}
     },
     "aa30d7d696414cde9fb132225d5cf314": {
      "model_module": "@jupyter-widgets/base",
      "model_module_version": "1.1.0",
      "model_name": "LayoutModel",
      "state": {}
     },
     "b522f9e35039474584a978b822baccd2": {
      "model_module": "@jupyter-widgets/controls",
      "model_module_version": "1.4.0",
      "model_name": "FloatSliderModel",
      "state": {
       "description": "p",
       "layout": "IPY_MODEL_2babd92850fb4a00b2111165d07c0cbe",
       "max": 0.9,
       "min": 0.1,
       "step": 0.1,
       "style": "IPY_MODEL_78c6d9c086184e2fa20254cabbe3fbee",
       "value": 0.5
      }
     },
     "b940971793de49d48b75fee1ed02a94d": {
      "model_module": "@jupyter-widgets/base",
      "model_module_version": "1.1.0",
      "model_name": "LayoutModel",
      "state": {}
     },
     "ba8f6ef086654eb7ab98441307960c42": {
      "model_module": "@jupyter-widgets/controls",
      "model_module_version": "1.4.0",
      "model_name": "IntSliderModel",
      "state": {
       "description": "n",
       "layout": "IPY_MODEL_b940971793de49d48b75fee1ed02a94d",
       "min": 2,
       "style": "IPY_MODEL_4437cb015bad434cb3dd97ee6ae0b8da",
       "value": 51
      }
     },
     "be0c3b9333b54f6881742d35db9d0408": {
      "model_module": "@jupyter-widgets/controls",
      "model_module_version": "1.4.0",
      "model_name": "VBoxModel",
      "state": {
       "_dom_classes": [
        "widget-interact"
       ],
       "children": [
        "IPY_MODEL_ba8f6ef086654eb7ab98441307960c42",
        "IPY_MODEL_196c29d07e0c428ca0bb253c965572c9",
        "IPY_MODEL_e1eb82841b814a509111961b5ba87318"
       ],
       "layout": "IPY_MODEL_623cda08dd3848c4a7092f26e48f0f5a"
      }
     },
     "d4d6b0e87c624fc6b502adf6b4006395": {
      "model_module": "@jupyter-widgets/controls",
      "model_module_version": "1.4.0",
      "model_name": "VBoxModel",
      "state": {
       "_dom_classes": [
        "widget-interact"
       ],
       "children": [
        "IPY_MODEL_e2c202b7893443c2913c16d8617c8389",
        "IPY_MODEL_b522f9e35039474584a978b822baccd2",
        "IPY_MODEL_53382bbda1d249138afe1e225540a15a"
       ],
       "layout": "IPY_MODEL_08277274b8e043b1808fa59474dd3ccf"
      }
     },
     "e1eb82841b814a509111961b5ba87318": {
      "model_module": "@jupyter-widgets/output",
      "model_module_version": "1.0.0",
      "model_name": "OutputModel",
      "state": {
       "layout": "IPY_MODEL_f5a604c320b04da98389a79735be116c",
       "outputs": [
        {
         "data": {
          "image/png": "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\n",
          "text/plain": "<Figure size 432x288 with 1 Axes>"
         },
         "metadata": {
          "needs_background": "light"
         },
         "output_type": "display_data"
        },
        {
         "data": {
          "text/plain": "12.75"
         },
         "metadata": {},
         "output_type": "display_data"
        }
       ]
      }
     },
     "e2c202b7893443c2913c16d8617c8389": {
      "model_module": "@jupyter-widgets/controls",
      "model_module_version": "1.4.0",
      "model_name": "IntSliderModel",
      "state": {
       "description": "n",
       "layout": "IPY_MODEL_382f93549617405f8d75e5acfa0d7a66",
       "min": 2,
       "style": "IPY_MODEL_031ac33f7acf49948c4f6339c6a4edbe",
       "value": 51
      }
     },
     "edff768877ea472681d66c59ac50004d": {
      "model_module": "@jupyter-widgets/base",
      "model_module_version": "1.1.0",
      "model_name": "LayoutModel",
      "state": {}
     },
     "f367cb1034ad49809152a913ea85a2e3": {
      "model_module": "@jupyter-widgets/controls",
      "model_module_version": "1.4.0",
      "model_name": "SliderStyleModel",
      "state": {
       "description_width": ""
      }
     },
     "f5a604c320b04da98389a79735be116c": {
      "model_module": "@jupyter-widgets/base",
      "model_module_version": "1.1.0",
      "model_name": "LayoutModel",
      "state": {}
     },
     "faf70a0ce7014c9cbcca4a0fcb1e3d01": {
      "model_module": "@jupyter-widgets/controls",
      "model_module_version": "1.4.0",
      "model_name": "VBoxModel",
      "state": {
       "_dom_classes": [
        "widget-interact"
       ],
       "children": [
        "IPY_MODEL_6c98cd9736a1481ba2d70629e61a9125",
        "IPY_MODEL_3a65cde3ed4d4285b3916e108918cb0d",
        "IPY_MODEL_0334c487406e4a71b48c677623f15645"
       ],
       "layout": "IPY_MODEL_edff768877ea472681d66c59ac50004d"
      }
     }
    },
    "version_major": 2,
    "version_minor": 0
   }
  }
 },
 "nbformat": 4,
 "nbformat_minor": 2
}
